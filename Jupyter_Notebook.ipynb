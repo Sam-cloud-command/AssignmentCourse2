{
 "cells": [
  {
   "cell_type": "markdown",
   "metadata": {},
   "source": [
    "<center>\n",
    "    <img src=\"https://cf-courses-data.s3.us.cloud-object-storage.appdomain.cloud/IBMDeveloperSkillsNetwork-DS0105EN-SkillsNetwork/labs/Module2/images/SN_web_lightmode.png\" width=\"300\" alt=\"cognitiveclass.ai logo\"  />\n",
    "</center>\n"
   ]
  },
  {
   "cell_type": "markdown",
   "metadata": {},
   "source": [
    "#### Add your code below following the instructions given in the course\n"
   ]
  },
  {
   "cell_type": "markdown",
   "metadata": {},
   "source": [
    "# My Jupyter Notebook on IBM Watson Studio"
   ]
  },
  {
   "cell_type": "markdown",
   "metadata": {},
   "source": [
    "**Samir More**  \n",
    "Data Scientist"
   ]
  },
  {
   "cell_type": "markdown",
   "metadata": {},
   "source": [
    "_I am interested in data science because with the advancement in technology the value of data increased tremendously and job prospect in data science is high. To grow professionally, I want to be data scientist._ "
   ]
  },
  {
   "cell_type": "markdown",
   "metadata": {},
   "source": [
    "### Addition of numbers"
   ]
  },
  {
   "cell_type": "code",
   "execution_count": 1,
   "metadata": {},
   "outputs": [
    {
     "name": "stdout",
     "output_type": "stream",
     "text": [
      "8\n"
     ]
    }
   ],
   "source": [
    "x = 3\n",
    "y = 5\n",
    "Sum = x + y\n",
    "print(Sum)"
   ]
  },
  {
   "cell_type": "markdown",
   "metadata": {},
   "source": [
    "Football World cup  \n",
    "__[Link to Google](https://www.google.co.in/search?q=fifa+world+cup&sxsrf=ALiCzsYMV4aK-i3V35bAcpIuP4BtYB1dzA%3A1670808477230&source=hp&ei=nYOWY_LeC9PKseMPsLGPgAY&iflsig=AJiK0e8AAAAAY5aRrUyxtpOWUts9Pc-zOD_vQDJopf0d&ved=0ahUKEwiyoZXO9vL7AhVTZWwGHbDYA2AQ4dUDCAk&uact=5&oq=fifa+world+cup&gs_lcp=Cgdnd3Mtd2l6EAMyBAguECcyBAgjECcyBAgjECcyCAgAELEDEIMBMgsIABCABBCxAxCDATIICC4QgwEQsQMyCwgAEIAEELEDEIMBMgsILhCABBCxAxCDATIICAAQsQMQgwEyCAgAELEDEIMBOgcIIxDqAhAnOgcILhDqAhAnOggIABCABBCxAzoMCCMQsQIQJxBGEP0BOgcIIxCxAhAnOg0ILhCDARCxAxCABBAKOgcIABCABBAKOg0IABCABBCxAxCDARAKOgUIABCABDoNCC4QgAQQsQMQgwEQCjoICC4QsQMQgwFQtQZYtTZglUVoA3AAeACAAckBiAHqDpIBBjAuMTUuMZgBAKABAbABCg&sclient=gws-wiz)__  \n",
    "Teams qualified for semi-final <hr>  \n",
    "<ol>\n",
    "<li>Croatia</li>\n",
    "<li>Argentina</li>\n",
    "<li>Morocco</li>\n",
    "<li>France</li>\n",
    "</ol>\n"
   ]
  },
  {
   "cell_type": "code",
   "execution_count": null,
   "metadata": {},
   "outputs": [],
   "source": []
  }
 ],
 "metadata": {
  "kernelspec": {
   "display_name": "Python",
   "language": "python",
   "name": "conda-env-python-py"
  },
  "language_info": {
   "codemirror_mode": {
    "name": "ipython",
    "version": 3
   },
   "file_extension": ".py",
   "mimetype": "text/x-python",
   "name": "python",
   "nbconvert_exporter": "python",
   "pygments_lexer": "ipython3",
   "version": "3.7.12"
  }
 },
 "nbformat": 4,
 "nbformat_minor": 4
}
